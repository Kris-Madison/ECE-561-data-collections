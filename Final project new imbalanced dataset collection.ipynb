{
 "cells": [
  {
   "cell_type": "code",
   "execution_count": 28,
   "id": "b6a0a4cd",
   "metadata": {},
   "outputs": [],
   "source": [
    "import pandas as pd"
   ]
  },
  {
   "cell_type": "code",
   "execution_count": 29,
   "id": "6e680753",
   "metadata": {},
   "outputs": [],
   "source": [
    "# load the mental health data-set\n",
    "df_mental = pd.read_csv('Combined Data.csv')"
   ]
  },
  {
   "cell_type": "code",
   "execution_count": 30,
   "id": "74bcc3db",
   "metadata": {},
   "outputs": [
    {
     "name": "stdout",
     "output_type": "stream",
     "text": [
      "<class 'pandas.core.frame.DataFrame'>\n",
      "RangeIndex: 53043 entries, 0 to 53042\n",
      "Data columns (total 3 columns):\n",
      " #   Column      Non-Null Count  Dtype \n",
      "---  ------      --------------  ----- \n",
      " 0   Unnamed: 0  53043 non-null  int64 \n",
      " 1   statement   52681 non-null  object\n",
      " 2   status      53043 non-null  object\n",
      "dtypes: int64(1), object(2)\n",
      "memory usage: 1.2+ MB\n",
      "Class Distribution:\n",
      "status\n",
      "Normal                  16351\n",
      "Depression              15404\n",
      "Suicidal                10653\n",
      "Anxiety                  3888\n",
      "Bipolar                  2877\n",
      "Stress                   2669\n",
      "Personality disorder     1201\n",
      "Name: count, dtype: int64\n"
     ]
    }
   ],
   "source": [
    "# Display initial information about the dataset\n",
    "df_mental.info()\n",
    "\n",
    "# Check the class distribution in the 'status' column\n",
    "class_distribution = df_mental['status'].value_counts()\n",
    "print(\"Class Distribution:\")\n",
    "print(class_distribution)"
   ]
  },
  {
   "cell_type": "code",
   "execution_count": 31,
   "id": "f0102d00",
   "metadata": {},
   "outputs": [
    {
     "name": "stdout",
     "output_type": "stream",
     "text": [
      "\n",
      "Minority Class: Personality disorder with 1201 samples.\n"
     ]
    }
   ],
   "source": [
    "# Identify the minority class\n",
    "minority_class = class_distribution.idxmin()\n",
    "minority_count = class_distribution.min()\n",
    "\n",
    "print(f\"\\nMinority Class: {minority_class} with {minority_count} samples.\")"
   ]
  },
  {
   "cell_type": "code",
   "execution_count": 32,
   "id": "80b544ad",
   "metadata": {},
   "outputs": [],
   "source": [
    "# 50 percent reduction of 'Personality disorder' to create imbalance\n",
    "retain_ratio = 0.5\n",
    "retain_count = int(minority_count * retain_ratio)\n",
    "\n",
    "# Filter the dataset to retain only the required number of minority class samples\n",
    "df_mental_minority = df_mental[df_mental['status'] == minority_class].sample(n=retain_count, random_state=42)\n",
    "df_mental_majority = df_mental[df_mental['status'] != minority_class]\n",
    "\n",
    "# Combine the majority data with the reduced minority class data\n",
    "df_mental_imbalanced = pd.concat([df_mental_majority, df_mental_minority], ignore_index=True)"
   ]
  },
  {
   "cell_type": "code",
   "execution_count": 33,
   "id": "28068872",
   "metadata": {},
   "outputs": [
    {
     "name": "stdout",
     "output_type": "stream",
     "text": [
      "New Class Distribution:\n",
      "status\n",
      "Normal                  16351\n",
      "Depression              15404\n",
      "Suicidal                10653\n",
      "Anxiety                  3888\n",
      "Bipolar                  2877\n",
      "Stress                   2669\n",
      "Personality disorder      600\n",
      "Name: count, dtype: int64\n"
     ]
    }
   ],
   "source": [
    "# Check the new class distribution\n",
    "new_class_distribution = df_mental_imbalanced['status'].value_counts()\n",
    "print(\"New Class Distribution:\")\n",
    "print(new_class_distribution)"
   ]
  },
  {
   "cell_type": "code",
   "execution_count": 34,
   "id": "5782c24c",
   "metadata": {},
   "outputs": [],
   "source": [
    "# save the dataset\n",
    "df_mental_imbalanced.to_csv('New_mental_imbalanced_dataset.csv')"
   ]
  },
  {
   "cell_type": "code",
   "execution_count": null,
   "id": "1440f7dc",
   "metadata": {},
   "outputs": [],
   "source": []
  },
  {
   "cell_type": "code",
   "execution_count": 35,
   "id": "cc6f392e",
   "metadata": {},
   "outputs": [],
   "source": [
    "# load diabetes data-set\n",
    "df_diab = pd.read_csv('diabetes_dataset00.csv')"
   ]
  },
  {
   "cell_type": "code",
   "execution_count": 36,
   "id": "47de6976",
   "metadata": {},
   "outputs": [
    {
     "name": "stdout",
     "output_type": "stream",
     "text": [
      "<class 'pandas.core.frame.DataFrame'>\n",
      "RangeIndex: 70000 entries, 0 to 69999\n",
      "Data columns (total 34 columns):\n",
      " #   Column                         Non-Null Count  Dtype \n",
      "---  ------                         --------------  ----- \n",
      " 0   Target                         70000 non-null  object\n",
      " 1   Genetic Markers                70000 non-null  object\n",
      " 2   Autoantibodies                 70000 non-null  object\n",
      " 3   Family History                 70000 non-null  object\n",
      " 4   Environmental Factors          70000 non-null  object\n",
      " 5   Insulin Levels                 70000 non-null  int64 \n",
      " 6   Age                            70000 non-null  int64 \n",
      " 7   BMI                            70000 non-null  int64 \n",
      " 8   Physical Activity              70000 non-null  object\n",
      " 9   Dietary Habits                 70000 non-null  object\n",
      " 10  Blood Pressure                 70000 non-null  int64 \n",
      " 11  Cholesterol Levels             70000 non-null  int64 \n",
      " 12  Waist Circumference            70000 non-null  int64 \n",
      " 13  Blood Glucose Levels           70000 non-null  int64 \n",
      " 14  Ethnicity                      70000 non-null  object\n",
      " 15  Socioeconomic Factors          70000 non-null  object\n",
      " 16  Smoking Status                 70000 non-null  object\n",
      " 17  Alcohol Consumption            70000 non-null  object\n",
      " 18  Glucose Tolerance Test         70000 non-null  object\n",
      " 19  History of PCOS                70000 non-null  object\n",
      " 20  Previous Gestational Diabetes  70000 non-null  object\n",
      " 21  Pregnancy History              70000 non-null  object\n",
      " 22  Weight Gain During Pregnancy   70000 non-null  int64 \n",
      " 23  Pancreatic Health              70000 non-null  int64 \n",
      " 24  Pulmonary Function             70000 non-null  int64 \n",
      " 25  Cystic Fibrosis Diagnosis      70000 non-null  object\n",
      " 26  Steroid Use History            70000 non-null  object\n",
      " 27  Genetic Testing                70000 non-null  object\n",
      " 28  Neurological Assessments       70000 non-null  int64 \n",
      " 29  Liver Function Tests           70000 non-null  object\n",
      " 30  Digestive Enzyme Levels        70000 non-null  int64 \n",
      " 31  Urine Test                     70000 non-null  object\n",
      " 32  Birth Weight                   70000 non-null  int64 \n",
      " 33  Early Onset Symptoms           70000 non-null  object\n",
      "dtypes: int64(13), object(21)\n",
      "memory usage: 18.2+ MB\n",
      "Class Distribution:\n",
      "Target\n",
      "MODY                                          5553\n",
      "Secondary Diabetes                            5479\n",
      "Cystic Fibrosis-Related Diabetes (CFRD)       5464\n",
      "Type 1 Diabetes                               5446\n",
      "Neonatal Diabetes Mellitus (NDM)              5408\n",
      "Wolcott-Rallison Syndrome                     5400\n",
      "Type 2 Diabetes                               5397\n",
      "Prediabetic                                   5376\n",
      "Gestational Diabetes                          5344\n",
      "Type 3c Diabetes (Pancreatogenic Diabetes)    5320\n",
      "Wolfram Syndrome                              5315\n",
      "Steroid-Induced Diabetes                      5275\n",
      "LADA                                          5223\n",
      "Name: count, dtype: int64\n",
      "\n",
      "Minority Class: LADA with 5223 samples.\n"
     ]
    }
   ],
   "source": [
    "# Display initial information about the dataset\n",
    "df_diab.info()\n",
    "\n",
    "# Check the class distribution in the 'Target' column\n",
    "class_distribution = df_diab['Target'].value_counts()\n",
    "\n",
    "# Identify the minority class\n",
    "minority_class = class_distribution.idxmin()\n",
    "minority_count = class_distribution.min()\n",
    "\n",
    "# Print the class distribution and minority class information\n",
    "print(\"Class Distribution:\")\n",
    "print(class_distribution)\n",
    "print(f\"\\nMinority Class: {minority_class} with {minority_count} samples.\")"
   ]
  },
  {
   "cell_type": "code",
   "execution_count": 37,
   "id": "55f5ed9d",
   "metadata": {},
   "outputs": [],
   "source": [
    "# 50 percent reduction of 'LADA' to create imbalance\n",
    "retain_ratio = 0.5\n",
    "retain_count = int(minority_count * retain_ratio)\n",
    "\n",
    "# Filter the dataset to retain only the required number of minority class samples\n",
    "df_diab_minority = df_diab[df_diab['Target'] == minority_class].sample(n=retain_count, random_state=42)\n",
    "df_diab_majority = df_diab[df_diab['Target'] != minority_class]\n",
    "\n",
    "# Combine the majority data with the reduced minority class data\n",
    "df_diab_imbalanced = pd.concat([df_diab_majority, df_diab_minority], ignore_index=True)"
   ]
  },
  {
   "cell_type": "code",
   "execution_count": 38,
   "id": "1ceb77f2",
   "metadata": {},
   "outputs": [
    {
     "name": "stdout",
     "output_type": "stream",
     "text": [
      "New Class Distribution:\n",
      "status\n",
      "Normal                  16351\n",
      "Depression              15404\n",
      "Suicidal                10653\n",
      "Anxiety                  3888\n",
      "Bipolar                  2877\n",
      "Stress                   2669\n",
      "Personality disorder      600\n",
      "Name: count, dtype: int64\n"
     ]
    }
   ],
   "source": [
    "# Check the new class distribution\n",
    "new_class_distribution = df_mental_imbalanced['status'].value_counts()\n",
    "print(\"New Class Distribution:\")\n",
    "print(new_class_distribution)"
   ]
  },
  {
   "cell_type": "code",
   "execution_count": 39,
   "id": "72834309",
   "metadata": {},
   "outputs": [],
   "source": [
    "# save the dataset\n",
    "df_diab_imbalanced.to_csv('New_diabetes_imbalanced_dataset.csv')"
   ]
  },
  {
   "cell_type": "code",
   "execution_count": null,
   "id": "df39978a",
   "metadata": {},
   "outputs": [],
   "source": []
  }
 ],
 "metadata": {
  "kernelspec": {
   "display_name": "Python 3 (ipykernel)",
   "language": "python",
   "name": "python3"
  },
  "language_info": {
   "codemirror_mode": {
    "name": "ipython",
    "version": 3
   },
   "file_extension": ".py",
   "mimetype": "text/x-python",
   "name": "python",
   "nbconvert_exporter": "python",
   "pygments_lexer": "ipython3",
   "version": "3.11.2"
  }
 },
 "nbformat": 4,
 "nbformat_minor": 5
}
